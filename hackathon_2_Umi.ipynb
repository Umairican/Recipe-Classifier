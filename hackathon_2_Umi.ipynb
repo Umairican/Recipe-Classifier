{
 "cells": [
  {
   "cell_type": "code",
   "execution_count": 1,
   "id": "stylish-hours",
   "metadata": {},
   "outputs": [
    {
     "name": "stderr",
     "output_type": "stream",
     "text": [
      "In /Users/umairevans/opt/anaconda3/lib/python3.8/site-packages/matplotlib/mpl-data/stylelib/_classic_test.mplstyle: \n",
      "The text.latex.preview rcparam was deprecated in Matplotlib 3.3 and will be removed two minor releases later.\n",
      "In /Users/umairevans/opt/anaconda3/lib/python3.8/site-packages/matplotlib/mpl-data/stylelib/_classic_test.mplstyle: \n",
      "The mathtext.fallback_to_cm rcparam was deprecated in Matplotlib 3.3 and will be removed two minor releases later.\n",
      "In /Users/umairevans/opt/anaconda3/lib/python3.8/site-packages/matplotlib/mpl-data/stylelib/_classic_test.mplstyle: Support for setting the 'mathtext.fallback_to_cm' rcParam is deprecated since 3.3 and will be removed two minor releases later; use 'mathtext.fallback : 'cm' instead.\n",
      "In /Users/umairevans/opt/anaconda3/lib/python3.8/site-packages/matplotlib/mpl-data/stylelib/_classic_test.mplstyle: \n",
      "The validate_bool_maybe_none function was deprecated in Matplotlib 3.3 and will be removed two minor releases later.\n",
      "In /Users/umairevans/opt/anaconda3/lib/python3.8/site-packages/matplotlib/mpl-data/stylelib/_classic_test.mplstyle: \n",
      "The savefig.jpeg_quality rcparam was deprecated in Matplotlib 3.3 and will be removed two minor releases later.\n",
      "In /Users/umairevans/opt/anaconda3/lib/python3.8/site-packages/matplotlib/mpl-data/stylelib/_classic_test.mplstyle: \n",
      "The keymap.all_axes rcparam was deprecated in Matplotlib 3.3 and will be removed two minor releases later.\n",
      "In /Users/umairevans/opt/anaconda3/lib/python3.8/site-packages/matplotlib/mpl-data/stylelib/_classic_test.mplstyle: \n",
      "The animation.avconv_path rcparam was deprecated in Matplotlib 3.3 and will be removed two minor releases later.\n",
      "In /Users/umairevans/opt/anaconda3/lib/python3.8/site-packages/matplotlib/mpl-data/stylelib/_classic_test.mplstyle: \n",
      "The animation.avconv_args rcparam was deprecated in Matplotlib 3.3 and will be removed two minor releases later.\n"
     ]
    }
   ],
   "source": [
    "# imports\n",
    "import pandas as pd\n",
    "import numpy as np\n",
    "import matplotlib.pyplot as plt\n",
    "import seaborn as sns\n",
    "from sklearn.model_selection import train_test_split, GridSearchCV, cross_val_score\n",
    "from sklearn.pipeline import Pipeline\n",
    "from sklearn.naive_bayes import MultinomialNB,BernoulliNB\n",
    "from sklearn.linear_model import LogisticRegression\n",
    "from sklearn.metrics import confusion_matrix, ConfusionMatrixDisplay, classification_report\n",
    "# Import CountVectorizer and TFIDFVectorizer from feature_extraction.text.\n",
    "from sklearn.feature_extraction.text import CountVectorizer, TfidfVectorizer\n",
    "from sklearn.neighbors import KNeighborsClassifier"
   ]
  },
  {
   "cell_type": "code",
   "execution_count": null,
   "id": "competitive-belfast",
   "metadata": {},
   "outputs": [],
   "source": [
    "ing_train = pd.read_json('./data/ingredients_train.json')\n",
    "ing_test = pd.read_json('./data/ingredients_test.json')"
   ]
  },
  {
   "cell_type": "code",
   "execution_count": null,
   "id": "consistent-armor",
   "metadata": {},
   "outputs": [],
   "source": [
    "ing_train.head()"
   ]
  },
  {
   "cell_type": "code",
   "execution_count": null,
   "id": "southwest-fiction",
   "metadata": {},
   "outputs": [],
   "source": [
    "ing_train['cuisine'].value_counts()"
   ]
  },
  {
   "cell_type": "code",
   "execution_count": null,
   "id": "portuguese-scheme",
   "metadata": {},
   "outputs": [],
   "source": [
    "ing_train['cuisine'].nunique()"
   ]
  },
  {
   "cell_type": "code",
   "execution_count": null,
   "id": "hispanic-cholesterol",
   "metadata": {},
   "outputs": [],
   "source": [
    "ing_train['ingredients'][0]"
   ]
  },
  {
   "cell_type": "code",
   "execution_count": null,
   "id": "twenty-halifax",
   "metadata": {},
   "outputs": [],
   "source": [
    "ing_train['ingredients'][0][0]"
   ]
  },
  {
   "cell_type": "code",
   "execution_count": null,
   "id": "banner-lending",
   "metadata": {},
   "outputs": [],
   "source": [
    "ing_train['list_str'] = [','.join(map(str, l)).lower() for l in ing_train['ingredients']]\n",
    "ing_test['list_str'] = [','.join(map(str, l)).lower() for l in ing_test['ingredients']]"
   ]
  },
  {
   "cell_type": "code",
   "execution_count": null,
   "id": "amber-wrapping",
   "metadata": {},
   "outputs": [],
   "source": [
    "\n",
    "ing_train['list_str'] =[elm.replace(' ', '_') for elm in ing_train['list_str']]\n",
    "ing_train['list_str'] =[elm.replace(',', ' ') for elm in ing_train['list_str']]"
   ]
  },
  {
   "cell_type": "code",
   "execution_count": null,
   "id": "threaded-vancouver",
   "metadata": {},
   "outputs": [],
   "source": [
    "\n",
    "ing_test['list_str'] =[elm.replace(' ', '_') for elm in ing_test['list_str']]\n",
    "ing_test['list_str'] =[elm.replace(',', ' ') for elm in ing_test['list_str']]"
   ]
  },
  {
   "cell_type": "code",
   "execution_count": null,
   "id": "closed-cargo",
   "metadata": {},
   "outputs": [],
   "source": [
    "ing_train.head()"
   ]
  },
  {
   "cell_type": "code",
   "execution_count": null,
   "id": "protecting-venezuela",
   "metadata": {},
   "outputs": [],
   "source": [
    "type(ing_train['list_str'][0])"
   ]
  },
  {
   "cell_type": "code",
   "execution_count": null,
   "id": "excited-catch",
   "metadata": {},
   "outputs": [],
   "source": [
    "indian = ing_train['cuisine'].where(ing_train['cuisine']=='indian')"
   ]
  },
  {
   "cell_type": "code",
   "execution_count": null,
   "id": "three-filling",
   "metadata": {},
   "outputs": [],
   "source": []
  },
  {
   "cell_type": "code",
   "execution_count": null,
   "id": "saving-belle",
   "metadata": {},
   "outputs": [],
   "source": []
  },
  {
   "cell_type": "code",
   "execution_count": null,
   "id": "regulation-cradle",
   "metadata": {},
   "outputs": [],
   "source": [
    "X = ing_train['list_str']\n",
    "y = ing_train['cuisine']\n",
    "\n",
    "# Split the data into the training and testing sets.\n",
    "X_train, X_test, y_train, y_test = train_test_split(X,y)"
   ]
  },
  {
   "cell_type": "code",
   "execution_count": null,
   "id": "satisfied-background",
   "metadata": {},
   "outputs": [],
   "source": [
    "stop_list = ['water', 'salt']"
   ]
  },
  {
   "cell_type": "code",
   "execution_count": null,
   "id": "systematic-frederick",
   "metadata": {},
   "outputs": [],
   "source": [
    "cvec = CountVectorizer(stop_words=stop_list)"
   ]
  },
  {
   "cell_type": "code",
   "execution_count": null,
   "id": "loose-chocolate",
   "metadata": {},
   "outputs": [],
   "source": [
    "cvec.fit(X_train)"
   ]
  },
  {
   "cell_type": "code",
   "execution_count": null,
   "id": "israeli-peter",
   "metadata": {},
   "outputs": [],
   "source": [
    "X_train.shape"
   ]
  },
  {
   "cell_type": "code",
   "execution_count": null,
   "id": "alert-actress",
   "metadata": {},
   "outputs": [],
   "source": [
    "X_train = cvec.transform(X_train)"
   ]
  },
  {
   "cell_type": "code",
   "execution_count": null,
   "id": "cognitive-brown",
   "metadata": {},
   "outputs": [],
   "source": [
    "X_train"
   ]
  },
  {
   "cell_type": "code",
   "execution_count": null,
   "id": "realistic-threat",
   "metadata": {},
   "outputs": [],
   "source": [
    "X_train.shape"
   ]
  },
  {
   "cell_type": "code",
   "execution_count": null,
   "id": "plain-intention",
   "metadata": {
    "scrolled": true
   },
   "outputs": [],
   "source": [
    "cvec.get_feature_names()"
   ]
  },
  {
   "cell_type": "code",
   "execution_count": null,
   "id": "swedish-cement",
   "metadata": {},
   "outputs": [],
   "source": [
    "X_train_df = pd.DataFrame(X_train.todense(),\n",
    "                         columns=cvec.get_feature_names())"
   ]
  },
  {
   "cell_type": "code",
   "execution_count": null,
   "id": "charitable-athens",
   "metadata": {},
   "outputs": [],
   "source": [
    "X_train_df.sum().sort_values(ascending=False).head(10)"
   ]
  },
  {
   "cell_type": "code",
   "execution_count": null,
   "id": "british-metadata",
   "metadata": {},
   "outputs": [],
   "source": [
    "# plot top occuring words\n",
    "X_train_df.sum().sort_values(ascending=False).head(10).plot(kind='barh');"
   ]
  },
  {
   "cell_type": "code",
   "execution_count": null,
   "id": "tired-recipient",
   "metadata": {},
   "outputs": [],
   "source": [
    "y_test.value_counts(normalize=True)"
   ]
  },
  {
   "cell_type": "code",
   "execution_count": null,
   "id": "extreme-share",
   "metadata": {},
   "outputs": [],
   "source": [
    "pipe = Pipeline([\n",
    "    ('cvec', CountVectorizer(lowercase=False)),\n",
    "    ('nb', MultinomialNB())\n",
    "])"
   ]
  },
  {
   "cell_type": "code",
   "execution_count": null,
   "id": "listed-instrument",
   "metadata": {},
   "outputs": [],
   "source": [
    "cross_val_score(pipe, X, y).mean()"
   ]
  },
  {
   "cell_type": "code",
   "execution_count": null,
   "id": "animal-helena",
   "metadata": {},
   "outputs": [],
   "source": [
    "X = ing_train['list_str']\n",
    "y = ing_train['cuisine']\n",
    "\n",
    "# Split the data into the training and testing sets.\n",
    "X_train, X_test, y_train, y_test = train_test_split(X,y)"
   ]
  },
  {
   "cell_type": "code",
   "execution_count": null,
   "id": "narrow-keeping",
   "metadata": {},
   "outputs": [],
   "source": [
    "pipe.fit(X_train,y_train)"
   ]
  },
  {
   "cell_type": "code",
   "execution_count": null,
   "id": "widespread-harrison",
   "metadata": {},
   "outputs": [],
   "source": [
    "pipe.score(X_train,y_train)"
   ]
  },
  {
   "cell_type": "code",
   "execution_count": null,
   "id": "planned-appeal",
   "metadata": {},
   "outputs": [],
   "source": [
    "pipe.score(X_test,y_test)"
   ]
  },
  {
   "cell_type": "code",
   "execution_count": null,
   "id": "round-appliance",
   "metadata": {},
   "outputs": [],
   "source": [
    "pipe2 = Pipeline([\n",
    "    ('cvec', CountVectorizer(lowercase=False)),\n",
    "    ('knn', KNeighborsClassifier())\n",
    "])"
   ]
  },
  {
   "cell_type": "code",
   "execution_count": null,
   "id": "fancy-refund",
   "metadata": {},
   "outputs": [],
   "source": [
    "pipe2.fit(X_train, y_train)"
   ]
  },
  {
   "cell_type": "code",
   "execution_count": null,
   "id": "combined-retail",
   "metadata": {},
   "outputs": [],
   "source": [
    "pipe2.score(X_train,y_train)"
   ]
  },
  {
   "cell_type": "code",
   "execution_count": null,
   "id": "aggregate-andrews",
   "metadata": {},
   "outputs": [],
   "source": [
    "pipe2.score(X_test, y_test)"
   ]
  },
  {
   "cell_type": "code",
   "execution_count": null,
   "id": "latter-impression",
   "metadata": {},
   "outputs": [],
   "source": [
    "pipe2.score(X,y)"
   ]
  },
  {
   "cell_type": "code",
   "execution_count": null,
   "id": "forbidden-london",
   "metadata": {},
   "outputs": [],
   "source": [
    "preds = pipe.predict(X_test)"
   ]
  },
  {
   "cell_type": "code",
   "execution_count": null,
   "id": "international-launch",
   "metadata": {},
   "outputs": [],
   "source": [
    "# Get Predictions\n",
    "preds = pipe.predict(X_test)\n",
    "#Save confusion matrix values\n",
    "cm = confusion_matrix(y_test, preds)\n",
    "lad = cm.ravel()\n",
    "sns.heatmap(data=cm, annot=True, cmap='cool') #Creating True Negative, False Positive, False Negative, True Positive vairables"
   ]
  },
  {
   "cell_type": "code",
   "execution_count": null,
   "id": "pending-denial",
   "metadata": {},
   "outputs": [],
   "source": [
    "#Much better\n",
    "cm = confusion_matrix(y_test, preds)\n",
    "labels = ['italian', 'mexican', 'southern_us', 'indian', 'chinese', 'french', 'cajun_creole', 'thai', 'japanese',\n",
    "'greek','spanish','korean','vietnamese','moroccan','british','filipino','irish','jamaican','russian','brazilian']\n",
    "cmp = ConfusionMatrixDisplay(cm, display_labels=np.arange(20))\n",
    "fig, ax = plt.subplots(figsize=(10,10))\n",
    "cmp.plot(ax=ax)"
   ]
  },
  {
   "cell_type": "code",
   "execution_count": null,
   "id": "reported-liabilities",
   "metadata": {},
   "outputs": [],
   "source": [
    "cm = confusion_matrix(y_test, preds)\n",
    "labels = ['italian', 'mexican', 'southern_us', 'indian', 'chinese', 'french', 'cajun_creole', 'thai', 'japanese',\n",
    "'greek','spanish','korean','vietnamese','moroccan','british','filipino','irish','jamaican','russian','brazilian']\n",
    "cm = confusion_matrix(y_test, preds, labels)\n",
    "cmp = ConfusionMatrixDisplay(cm, display_labels=labels)\n",
    "fig, ax = plt.subplots(figsize=(10,10))\n",
    "ax.set_xticklabels([''] + labels)\n",
    "ax.set_yticklabels([''] + labels)\n",
    "cmp.plot(ax=ax);\n",
    "plt.xticks(rotation=45)\n",
    "plt.show();"
   ]
  },
  {
   "cell_type": "markdown",
   "id": "approximate-portugal",
   "metadata": {},
   "source": [
    "# And now we need to test and train and predict on the test dataset"
   ]
  },
  {
   "cell_type": "code",
   "execution_count": null,
   "id": "catholic-charlotte",
   "metadata": {},
   "outputs": [],
   "source": [
    "model_X = ing_train['list_str']\n",
    "model_y = ing_train['list_str']\n",
    "submission_X = ing_test['list_str']\n",
    "#submission_y = ing_train['cuisine']\n",
    "\n",
    "# Split the data into the training and testing sets.\n",
    "#X_train, X_test, y_train, y_test = train_test_split(X,y)"
   ]
  },
  {
   "cell_type": "code",
   "execution_count": null,
   "id": "affiliated-facial",
   "metadata": {},
   "outputs": [],
   "source": [
    "submission_X"
   ]
  },
  {
   "cell_type": "code",
   "execution_count": null,
   "id": "manufactured-citizen",
   "metadata": {},
   "outputs": [],
   "source": [
    "submission_pipe = Pipeline([\n",
    "    ('cvec', CountVectorizer(lowercase=False)),\n",
    "    ('nb', MultinomialNB())\n",
    "])"
   ]
  },
  {
   "cell_type": "code",
   "execution_count": null,
   "id": "aware-brown",
   "metadata": {},
   "outputs": [],
   "source": [
    "submission_pipe.fit(model_X, model_y)"
   ]
  },
  {
   "cell_type": "code",
   "execution_count": null,
   "id": "worldwide-catering",
   "metadata": {},
   "outputs": [],
   "source": [
    "sub_preds = pipe.predict(submission_X)"
   ]
  },
  {
   "cell_type": "code",
   "execution_count": null,
   "id": "advised-horizontal",
   "metadata": {},
   "outputs": [],
   "source": [
    "sub_preds"
   ]
  },
  {
   "cell_type": "code",
   "execution_count": null,
   "id": "direct-split",
   "metadata": {},
   "outputs": [],
   "source": [
    "ing_test['preds_cuisine'] = sub_preds"
   ]
  },
  {
   "cell_type": "code",
   "execution_count": null,
   "id": "discrete-cotton",
   "metadata": {},
   "outputs": [],
   "source": [
    "ing_test.head()"
   ]
  },
  {
   "cell_type": "code",
   "execution_count": null,
   "id": "entire-improvement",
   "metadata": {},
   "outputs": [],
   "source": []
  },
  {
   "cell_type": "code",
   "execution_count": null,
   "id": "handed-effort",
   "metadata": {},
   "outputs": [],
   "source": []
  },
  {
   "cell_type": "markdown",
   "id": "virtual-appearance",
   "metadata": {},
   "source": [
    "# Our Explosive Next Attempt"
   ]
  },
  {
   "cell_type": "code",
   "execution_count": null,
   "id": "covered-housing",
   "metadata": {},
   "outputs": [],
   "source": [
    "exp_ing_train = ing_train.explode('ingredients')"
   ]
  },
  {
   "cell_type": "code",
   "execution_count": null,
   "id": "frequent-connection",
   "metadata": {},
   "outputs": [],
   "source": [
    "exp_ing_train.head()"
   ]
  },
  {
   "cell_type": "code",
   "execution_count": null,
   "id": "extra-library",
   "metadata": {},
   "outputs": [],
   "source": [
    "# plot top occuring words\n",
    "#exp_ing_train.sum().sort_values(ascending=False).head(10).plot(kind='barh');"
   ]
  },
  {
   "cell_type": "code",
   "execution_count": null,
   "id": "wrapped-poultry",
   "metadata": {},
   "outputs": [],
   "source": [
    "#X_train_df.sum().sort_values(ascending=False).head(10)"
   ]
  },
  {
   "cell_type": "code",
   "execution_count": null,
   "id": "expensive-receiver",
   "metadata": {},
   "outputs": [],
   "source": []
  }
 ],
 "metadata": {
  "kernelspec": {
   "display_name": "Python 3",
   "language": "python",
   "name": "python3"
  },
  "language_info": {
   "codemirror_mode": {
    "name": "ipython",
    "version": 3
   },
   "file_extension": ".py",
   "mimetype": "text/x-python",
   "name": "python",
   "nbconvert_exporter": "python",
   "pygments_lexer": "ipython3",
   "version": "3.8.8"
  }
 },
 "nbformat": 4,
 "nbformat_minor": 5
}
