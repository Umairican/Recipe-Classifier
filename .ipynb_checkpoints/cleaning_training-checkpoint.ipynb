{
 "cells": [
  {
   "cell_type": "markdown",
   "id": "banner-caution",
   "metadata": {},
   "source": [
    "# This is from a hackathon for learning how to create a multi-class classification\n",
    "\n",
    "The below code is about seeing if I can reliably predict the style of cuisine based on the ingredients listed. This is a Natural Language Processing project, including stop words and other features to help along the way."
   ]
  },
  {
   "cell_type": "code",
   "execution_count": 1,
   "id": "developmental-cleveland",
   "metadata": {},
   "outputs": [],
   "source": [
    "import warnings #suppressing deprecation warning\n",
    "warnings.filterwarnings(\"ignore\")\n",
    "\n",
    "# Bring your mates\n",
    "import pandas as pd\n",
    "import numpy as np\n",
    "import matplotlib.pyplot as plt\n",
    "import seaborn as sns\n",
    "\n",
    "from sklearn.model_selection import train_test_split, GridSearchCV, cross_val_score\n",
    "from sklearn.pipeline import Pipeline\n",
    "from sklearn.naive_bayes import MultinomialNB,BernoulliNB\n",
    "from sklearn.linear_model import LogisticRegression\n",
    "from sklearn.metrics import confusion_matrix, ConfusionMatrixDisplay, classification_report\n",
    "\n",
    "# Import CountVectorizer and TFIDFVectorizer from feature_extraction.text.\n",
    "from sklearn.feature_extraction.text import CountVectorizer, TfidfVectorizer\n",
    "from sklearn.neighbors import KNeighborsClassifier"
   ]
  },
  {
   "cell_type": "code",
   "execution_count": 2,
   "id": "chronic-helping",
   "metadata": {},
   "outputs": [],
   "source": [
    "ing_train = pd.read_json('./data/ingredients_train.json')\n",
    "ing_test = pd.read_json('./data/ingredients_test.json')"
   ]
  },
  {
   "cell_type": "code",
   "execution_count": 3,
   "id": "adverse-scholar",
   "metadata": {},
   "outputs": [
    {
     "data": {
      "text/html": [
       "<div>\n",
       "<style scoped>\n",
       "    .dataframe tbody tr th:only-of-type {\n",
       "        vertical-align: middle;\n",
       "    }\n",
       "\n",
       "    .dataframe tbody tr th {\n",
       "        vertical-align: top;\n",
       "    }\n",
       "\n",
       "    .dataframe thead th {\n",
       "        text-align: right;\n",
       "    }\n",
       "</style>\n",
       "<table border=\"1\" class=\"dataframe\">\n",
       "  <thead>\n",
       "    <tr style=\"text-align: right;\">\n",
       "      <th></th>\n",
       "      <th>id</th>\n",
       "      <th>cuisine</th>\n",
       "      <th>ingredients</th>\n",
       "    </tr>\n",
       "  </thead>\n",
       "  <tbody>\n",
       "    <tr>\n",
       "      <th>0</th>\n",
       "      <td>10259</td>\n",
       "      <td>greek</td>\n",
       "      <td>[romaine lettuce, black olives, grape tomatoes...</td>\n",
       "    </tr>\n",
       "    <tr>\n",
       "      <th>1</th>\n",
       "      <td>25693</td>\n",
       "      <td>southern_us</td>\n",
       "      <td>[plain flour, ground pepper, salt, tomatoes, g...</td>\n",
       "    </tr>\n",
       "    <tr>\n",
       "      <th>2</th>\n",
       "      <td>20130</td>\n",
       "      <td>filipino</td>\n",
       "      <td>[eggs, pepper, salt, mayonaise, cooking oil, g...</td>\n",
       "    </tr>\n",
       "    <tr>\n",
       "      <th>3</th>\n",
       "      <td>22213</td>\n",
       "      <td>indian</td>\n",
       "      <td>[water, vegetable oil, wheat, salt]</td>\n",
       "    </tr>\n",
       "    <tr>\n",
       "      <th>4</th>\n",
       "      <td>13162</td>\n",
       "      <td>indian</td>\n",
       "      <td>[black pepper, shallots, cornflour, cayenne pe...</td>\n",
       "    </tr>\n",
       "  </tbody>\n",
       "</table>\n",
       "</div>"
      ],
      "text/plain": [
       "      id      cuisine                                        ingredients\n",
       "0  10259        greek  [romaine lettuce, black olives, grape tomatoes...\n",
       "1  25693  southern_us  [plain flour, ground pepper, salt, tomatoes, g...\n",
       "2  20130     filipino  [eggs, pepper, salt, mayonaise, cooking oil, g...\n",
       "3  22213       indian                [water, vegetable oil, wheat, salt]\n",
       "4  13162       indian  [black pepper, shallots, cornflour, cayenne pe..."
      ]
     },
     "execution_count": 3,
     "metadata": {},
     "output_type": "execute_result"
    }
   ],
   "source": [
    "ing_train.head()"
   ]
  },
  {
   "cell_type": "code",
   "execution_count": 4,
   "id": "derived-musical",
   "metadata": {},
   "outputs": [
    {
     "data": {
      "text/plain": [
       "italian         7838\n",
       "mexican         6438\n",
       "southern_us     4320\n",
       "indian          3003\n",
       "chinese         2673\n",
       "french          2646\n",
       "cajun_creole    1546\n",
       "thai            1539\n",
       "japanese        1423\n",
       "greek           1175\n",
       "spanish          989\n",
       "korean           830\n",
       "vietnamese       825\n",
       "moroccan         821\n",
       "british          804\n",
       "filipino         755\n",
       "irish            667\n",
       "jamaican         526\n",
       "russian          489\n",
       "brazilian        467\n",
       "Name: cuisine, dtype: int64"
      ]
     },
     "execution_count": 4,
     "metadata": {},
     "output_type": "execute_result"
    }
   ],
   "source": [
    "ing_train['cuisine'].value_counts()"
   ]
  },
  {
   "cell_type": "code",
   "execution_count": 5,
   "id": "orange-bleeding",
   "metadata": {},
   "outputs": [
    {
     "data": {
      "text/plain": [
       "20"
      ]
     },
     "execution_count": 5,
     "metadata": {},
     "output_type": "execute_result"
    }
   ],
   "source": [
    "ing_train['cuisine'].nunique()"
   ]
  },
  {
   "cell_type": "code",
   "execution_count": 6,
   "id": "collective-meter",
   "metadata": {},
   "outputs": [
    {
     "data": {
      "text/plain": [
       "['romaine lettuce',\n",
       " 'black olives',\n",
       " 'grape tomatoes',\n",
       " 'garlic',\n",
       " 'pepper',\n",
       " 'purple onion',\n",
       " 'seasoning',\n",
       " 'garbanzo beans',\n",
       " 'feta cheese crumbles']"
      ]
     },
     "execution_count": 6,
     "metadata": {},
     "output_type": "execute_result"
    }
   ],
   "source": [
    "ing_train['ingredients'][0]"
   ]
  },
  {
   "cell_type": "code",
   "execution_count": 7,
   "id": "significant-escape",
   "metadata": {},
   "outputs": [
    {
     "data": {
      "text/plain": [
       "'romaine lettuce'"
      ]
     },
     "execution_count": 7,
     "metadata": {},
     "output_type": "execute_result"
    }
   ],
   "source": [
    "ing_train['ingredients'][0][0]"
   ]
  },
  {
   "cell_type": "code",
   "execution_count": 8,
   "id": "skilled-witness",
   "metadata": {},
   "outputs": [],
   "source": [
    "ing_train['list_str'] = [','.join(map(str, l)).lower() for l in ing_train['ingredients']]\n",
    "ing_test['list_str'] = [','.join(map(str, l)).lower() for l in ing_test['ingredients']]"
   ]
  },
  {
   "cell_type": "code",
   "execution_count": 9,
   "id": "streaming-convention",
   "metadata": {},
   "outputs": [],
   "source": [
    "\n",
    "ing_train['list_str'] =[elm.replace(' ', '_') for elm in ing_train['list_str']]\n",
    "ing_train['list_str'] =[elm.replace(',', ' ') for elm in ing_train['list_str']]"
   ]
  },
  {
   "cell_type": "code",
   "execution_count": 10,
   "id": "three-spirituality",
   "metadata": {},
   "outputs": [],
   "source": [
    "\n",
    "ing_test['list_str'] =[elm.replace(' ', '_') for elm in ing_test['list_str']]\n",
    "ing_test['list_str'] =[elm.replace(',', ' ') for elm in ing_test['list_str']]"
   ]
  },
  {
   "cell_type": "code",
   "execution_count": 11,
   "id": "meaning-metadata",
   "metadata": {},
   "outputs": [
    {
     "data": {
      "text/html": [
       "<div>\n",
       "<style scoped>\n",
       "    .dataframe tbody tr th:only-of-type {\n",
       "        vertical-align: middle;\n",
       "    }\n",
       "\n",
       "    .dataframe tbody tr th {\n",
       "        vertical-align: top;\n",
       "    }\n",
       "\n",
       "    .dataframe thead th {\n",
       "        text-align: right;\n",
       "    }\n",
       "</style>\n",
       "<table border=\"1\" class=\"dataframe\">\n",
       "  <thead>\n",
       "    <tr style=\"text-align: right;\">\n",
       "      <th></th>\n",
       "      <th>id</th>\n",
       "      <th>cuisine</th>\n",
       "      <th>ingredients</th>\n",
       "      <th>list_str</th>\n",
       "    </tr>\n",
       "  </thead>\n",
       "  <tbody>\n",
       "    <tr>\n",
       "      <th>0</th>\n",
       "      <td>10259</td>\n",
       "      <td>greek</td>\n",
       "      <td>[romaine lettuce, black olives, grape tomatoes...</td>\n",
       "      <td>romaine_lettuce black_olives grape_tomatoes ga...</td>\n",
       "    </tr>\n",
       "    <tr>\n",
       "      <th>1</th>\n",
       "      <td>25693</td>\n",
       "      <td>southern_us</td>\n",
       "      <td>[plain flour, ground pepper, salt, tomatoes, g...</td>\n",
       "      <td>plain_flour ground_pepper salt tomatoes ground...</td>\n",
       "    </tr>\n",
       "    <tr>\n",
       "      <th>2</th>\n",
       "      <td>20130</td>\n",
       "      <td>filipino</td>\n",
       "      <td>[eggs, pepper, salt, mayonaise, cooking oil, g...</td>\n",
       "      <td>eggs pepper salt mayonaise cooking_oil green_c...</td>\n",
       "    </tr>\n",
       "    <tr>\n",
       "      <th>3</th>\n",
       "      <td>22213</td>\n",
       "      <td>indian</td>\n",
       "      <td>[water, vegetable oil, wheat, salt]</td>\n",
       "      <td>water vegetable_oil wheat salt</td>\n",
       "    </tr>\n",
       "    <tr>\n",
       "      <th>4</th>\n",
       "      <td>13162</td>\n",
       "      <td>indian</td>\n",
       "      <td>[black pepper, shallots, cornflour, cayenne pe...</td>\n",
       "      <td>black_pepper shallots cornflour cayenne_pepper...</td>\n",
       "    </tr>\n",
       "  </tbody>\n",
       "</table>\n",
       "</div>"
      ],
      "text/plain": [
       "      id      cuisine                                        ingredients  \\\n",
       "0  10259        greek  [romaine lettuce, black olives, grape tomatoes...   \n",
       "1  25693  southern_us  [plain flour, ground pepper, salt, tomatoes, g...   \n",
       "2  20130     filipino  [eggs, pepper, salt, mayonaise, cooking oil, g...   \n",
       "3  22213       indian                [water, vegetable oil, wheat, salt]   \n",
       "4  13162       indian  [black pepper, shallots, cornflour, cayenne pe...   \n",
       "\n",
       "                                            list_str  \n",
       "0  romaine_lettuce black_olives grape_tomatoes ga...  \n",
       "1  plain_flour ground_pepper salt tomatoes ground...  \n",
       "2  eggs pepper salt mayonaise cooking_oil green_c...  \n",
       "3                     water vegetable_oil wheat salt  \n",
       "4  black_pepper shallots cornflour cayenne_pepper...  "
      ]
     },
     "execution_count": 11,
     "metadata": {},
     "output_type": "execute_result"
    }
   ],
   "source": [
    "ing_train.head()"
   ]
  },
  {
   "cell_type": "code",
   "execution_count": 12,
   "id": "missing-rendering",
   "metadata": {},
   "outputs": [
    {
     "data": {
      "text/plain": [
       "str"
      ]
     },
     "execution_count": 12,
     "metadata": {},
     "output_type": "execute_result"
    }
   ],
   "source": [
    "type(ing_train['list_str'][0])"
   ]
  },
  {
   "cell_type": "code",
   "execution_count": 13,
   "id": "intermediate-assembly",
   "metadata": {},
   "outputs": [],
   "source": [
    "indian = ing_train['cuisine'].where(ing_train['cuisine']=='indian')"
   ]
  },
  {
   "cell_type": "markdown",
   "id": "delayed-flexibility",
   "metadata": {},
   "source": [
    "### Training The Models\n",
    "\n",
    "We are onto training the models to identify the cuisine based on the ingredient list now. We are using the training data, as supplied above, and then testing it on the testing data later."
   ]
  },
  {
   "cell_type": "code",
   "execution_count": 15,
   "id": "gothic-mattress",
   "metadata": {},
   "outputs": [],
   "source": [
    "X = ing_train['list_str']\n",
    "y = ing_train['cuisine']\n",
    "\n",
    "# Split the data into the training and testing sets.\n",
    "X_train, X_test, y_train, y_test = train_test_split(X,y)"
   ]
  },
  {
   "cell_type": "code",
   "execution_count": 16,
   "id": "cubic-banks",
   "metadata": {},
   "outputs": [],
   "source": [
    "stop_list = ['water', 'salt']"
   ]
  },
  {
   "cell_type": "code",
   "execution_count": 17,
   "id": "spare-authentication",
   "metadata": {},
   "outputs": [],
   "source": [
    "cvec = CountVectorizer(stop_words=stop_list)"
   ]
  },
  {
   "cell_type": "code",
   "execution_count": 18,
   "id": "remarkable-native",
   "metadata": {},
   "outputs": [
    {
     "data": {
      "text/plain": [
       "CountVectorizer(stop_words=['water', 'salt'])"
      ]
     },
     "execution_count": 18,
     "metadata": {},
     "output_type": "execute_result"
    }
   ],
   "source": [
    "cvec.fit(X_train)"
   ]
  },
  {
   "cell_type": "code",
   "execution_count": 19,
   "id": "robust-treatment",
   "metadata": {},
   "outputs": [
    {
     "data": {
      "text/plain": [
       "(29830,)"
      ]
     },
     "execution_count": 19,
     "metadata": {},
     "output_type": "execute_result"
    }
   ],
   "source": [
    "X_train.shape"
   ]
  },
  {
   "cell_type": "code",
   "execution_count": 20,
   "id": "analyzed-jacob",
   "metadata": {},
   "outputs": [],
   "source": [
    "X_train = cvec.transform(X_train)"
   ]
  },
  {
   "cell_type": "code",
   "execution_count": 21,
   "id": "bulgarian-cylinder",
   "metadata": {},
   "outputs": [
    {
     "data": {
      "text/plain": [
       "<29830x6336 sparse matrix of type '<class 'numpy.int64'>'\n",
       "\twith 311718 stored elements in Compressed Sparse Row format>"
      ]
     },
     "execution_count": 21,
     "metadata": {},
     "output_type": "execute_result"
    }
   ],
   "source": [
    "X_train"
   ]
  },
  {
   "cell_type": "code",
   "execution_count": 22,
   "id": "ethical-amendment",
   "metadata": {},
   "outputs": [
    {
     "data": {
      "text/plain": [
       "(29830, 6336)"
      ]
     },
     "execution_count": 22,
     "metadata": {},
     "output_type": "execute_result"
    }
   ],
   "source": [
    "X_train.shape"
   ]
  },
  {
   "cell_type": "code",
   "execution_count": 23,
   "id": "collective-opera",
   "metadata": {
    "scrolled": true
   },
   "outputs": [
    {
     "data": {
      "text/plain": [
       "['10_oz',\n",
       " '14',\n",
       " '14_oz',\n",
       " '15_oz',\n",
       " '25',\n",
       " '2_1',\n",
       " '2_to_3_lb',\n",
       " '33',\n",
       " '40',\n",
       " '5_oz',\n",
       " '7_up',\n",
       " '8_ounc_ziti_pasta',\n",
       " '95',\n",
       " '_1_inch_thick',\n",
       " '____oz',\n",
       " '___oz',\n",
       " '_alfredo',\n",
       " '_alfredo_sauce',\n",
       " '_all_purpose_sticks',\n",
       " '_arrabbiata_sauce',\n",
       " '_artisan_blends',\n",
       " '_baking_blend',\n",
       " '_basil_sauce',\n",
       " '_beef_bouillon',\n",
       " '_butter',\n",
       " '_butter_',\n",
       " '_cajun_style_chicken_sausage',\n",
       " '_caramel_yogurt',\n",
       " '_chicken',\n",
       " '_chicken_broth',\n",
       " '_chicken_flavor',\n",
       " '_chipotle_pepper_sauce',\n",
       " '_chopped_green_chiles',\n",
       " '_chunky_mild_salsa',\n",
       " '_classic_pizza_crust',\n",
       " '_classico_olive_oil',\n",
       " '_cook_and_drain',\n",
       " '_cooked_and_drained',\n",
       " '_cookies',\n",
       " '_cream',\n",
       " '_crisp',\n",
       " '_crush',\n",
       " '_cut_french_into_loaf',\n",
       " '_cut_into',\n",
       " '_cut_into_italian_loaf',\n",
       " '_cut_into_serving_pieces',\n",
       " '_dash',\n",
       " '_dash_seasoning_mix',\n",
       " '_diced_tomatoes',\n",
       " '_drain',\n",
       " '_drain_and_flake',\n",
       " '_drained_and_chopped',\n",
       " '_dressing',\n",
       " '_dressing_',\n",
       " '_dried_fish',\n",
       " '_eggs',\n",
       " '_farmhouse_originals_italian_with_herbs_dressing',\n",
       " '_fat_free_ham',\n",
       " '_fiesta_sides',\n",
       " '_fiesta_sides_spanish_rice',\n",
       " '_fine_chop',\n",
       " '_frozen_chopped_spinach',\n",
       " '_greek_2',\n",
       " '_green_chilies',\n",
       " '_half',\n",
       " '_herb',\n",
       " '_home_originals',\n",
       " '_hot_',\n",
       " '_iced_tea_brew_family_size_tea_bags',\n",
       " '_kosher_salt',\n",
       " '_lean_ground_beef',\n",
       " '_less_sodium_chicken_broth',\n",
       " '_less_sodium_cooked_deli_ham',\n",
       " '_less_sodium_cooked_ham',\n",
       " '_less_sodium_ham',\n",
       " '_less_sodium_smoked_fully_cooked_ham',\n",
       " '_less_sodium_taco_seasoning',\n",
       " '_less_sodium_taco_seasoning_mix',\n",
       " '_light_dressing',\n",
       " '_low',\n",
       " '_low_fat_cheddar_chees',\n",
       " '_lowfat_greek_yogurt',\n",
       " '_made_with_olive_oil_spread',\n",
       " '_marinade',\n",
       " '_mexican_rice',\n",
       " '_mild_italian_ground_sausage',\n",
       " '_mild_red_enchilada_sauce',\n",
       " '_milk_finely_shredded_four_cheese',\n",
       " '_milk_shredded_mozzarella_cheese',\n",
       " '_minced_garlic',\n",
       " '_mixers_margarita_mix',\n",
       " '_monterey_jack_cheese',\n",
       " '_natural_sweetener',\n",
       " '_natural_vanilla_ice_cream',\n",
       " '_not_butter',\n",
       " '_onion_soup_mix',\n",
       " '_or_best_food_light_mayonnais',\n",
       " '_or_best_food_real_mayonnais',\n",
       " '_original_cayenne_pepper_sauce',\n",
       " '_original_ranch',\n",
       " '_original_ranch_salad',\n",
       " '_pasta_sauce',\n",
       " '_pasta_sides',\n",
       " '_peel_and_devein',\n",
       " '_pepper',\n",
       " '_perrins_worcestershire_sauce',\n",
       " '_pure_vanilla_extract',\n",
       " '_real_mayonnaise',\n",
       " '_recipe_secrets',\n",
       " '_redhot',\n",
       " '_reduced',\n",
       " '_refried_beans',\n",
       " '_refrigerated_crescent_dinner_rolls',\n",
       " '_rins_and_drain',\n",
       " '_rins_and_pat_dry',\n",
       " '_robusto',\n",
       " '_robusto_italian_dressing',\n",
       " '_seasoning_mix',\n",
       " '_shredded_parmesan_cheese',\n",
       " '_skinless_chicken_breast',\n",
       " '_slice',\n",
       " '_sliced',\n",
       " '_soften',\n",
       " '_sour_stir_fry_sauce',\n",
       " '_spicy_breakfast_links',\n",
       " '_spicy_ranch_dressing',\n",
       " '_spicy_sausage_slices',\n",
       " '_split_and_toasted',\n",
       " '_spread',\n",
       " '_superior',\n",
       " '_sweetened_condensed_milk',\n",
       " '_taco_seasoning_mix',\n",
       " '_thaw',\n",
       " '_thaw_and_drain',\n",
       " '_thawed_and_squeezed_dry',\n",
       " '_thawed_and_undiluted',\n",
       " '_thick_',\n",
       " '_toasted_sesame_dressing_',\n",
       " '_toasts',\n",
       " '_tomato_paste',\n",
       " '_tomato_sauce',\n",
       " '_traditional_cut_shredded_4_cheese_mexican',\n",
       " '_undrain',\n",
       " '_undrain_and_chop',\n",
       " '_vegetable_recipe_mix',\n",
       " '_water',\n",
       " '_well_scrub',\n",
       " '_well_scrubbed',\n",
       " '_yams',\n",
       " 'a_taste_of_thai_rice_noodles',\n",
       " 'abalone',\n",
       " 'absinthe',\n",
       " 'abura_age',\n",
       " 'acai_juice',\n",
       " 'accent',\n",
       " 'accent_seasoning',\n",
       " 'accompaniment',\n",
       " 'achiote',\n",
       " 'achiote_paste',\n",
       " 'achiote_powder',\n",
       " 'acini_di_pepe',\n",
       " 'ackee',\n",
       " 'acorn_squash',\n",
       " 'acting_baking_powder',\n",
       " 'activ',\n",
       " 'active_dry_yeast',\n",
       " 'added_black_beans',\n",
       " 'added_diced_tomatoes',\n",
       " 'adobo',\n",
       " 'adobo_all_purpose_seasoning',\n",
       " 'adobo_sauce',\n",
       " 'adobo_seasoning',\n",
       " 'adobo_style_seasoning',\n",
       " 'adzuki_beans',\n",
       " 'agar',\n",
       " 'agar_agar_flakes',\n",
       " 'agave_nectar',\n",
       " 'agave_tequila',\n",
       " 'aged_balsamic_vinegar',\n",
       " 'aged_cheddar_cheese',\n",
       " 'aged_manchego_cheese',\n",
       " 'ahi',\n",
       " 'ahi_tuna_steaks',\n",
       " 'aioli',\n",
       " 'ajinomoto',\n",
       " 'ajwain',\n",
       " 'aka_miso',\n",
       " 'alaskan_king_crab_legs',\n",
       " 'albacore',\n",
       " 'albacore_tuna_in_water',\n",
       " 'alcohol',\n",
       " 'ale',\n",
       " 'aleppo',\n",
       " 'aleppo_pepper',\n",
       " 'alexia_waffle_fries',\n",
       " 'alfalfa_sprouts',\n",
       " 'alfredo_sauce',\n",
       " 'alfredo_sauce_mix',\n",
       " 'all',\n",
       " 'all_beef_hot_dogs',\n",
       " 'all_potato_purpos',\n",
       " 'all_purpose_seasoning',\n",
       " 'all_purpose_unbleached_flour',\n",
       " 'allspice',\n",
       " 'allspice_berries',\n",
       " 'almond_butter',\n",
       " 'almond_extract',\n",
       " 'almond_filling',\n",
       " 'almond_flour',\n",
       " 'almond_liqueur',\n",
       " 'almond_meal',\n",
       " 'almond_milk',\n",
       " 'almond_oil',\n",
       " 'almond_paste',\n",
       " 'almond_syrup',\n",
       " 'almonds',\n",
       " 'alphabet_pasta',\n",
       " 'alum',\n",
       " 'amaranth',\n",
       " 'amarena_cherries',\n",
       " 'amaretti',\n",
       " 'amaretti_cookies',\n",
       " 'amaretto',\n",
       " 'amaretto_liqueur',\n",
       " 'amba',\n",
       " 'amber',\n",
       " 'amber_rum',\n",
       " 'amchur',\n",
       " 'america',\n",
       " 'american_cheese',\n",
       " 'american_cheese_slices',\n",
       " 'ammonium_bicarbonate',\n",
       " 'ampalaya',\n",
       " 'an',\n",
       " 'anaheim_chile',\n",
       " 'anasazi_beans',\n",
       " 'ancho',\n",
       " 'ancho_chile_pepper',\n",
       " 'ancho_chili_ground_pepper',\n",
       " 'ancho_powder',\n",
       " 'anchovies',\n",
       " 'anchovy_filets',\n",
       " 'anchovy_fillets',\n",
       " 'anchovy_paste',\n",
       " 'and_carrot_green_pea',\n",
       " 'and_cook_drain_pasta_ziti',\n",
       " 'and_fat_free_half_half',\n",
       " 'andouille_chicken_sausage',\n",
       " 'andouille_sausage',\n",
       " 'andouille_sausage_links',\n",
       " 'andouille_turkey_sausages',\n",
       " 'angel_food_cake',\n",
       " 'angel_food_cake_mix',\n",
       " 'angel_hair',\n",
       " 'angled_loofah',\n",
       " 'angostura_bitters',\n",
       " 'anise',\n",
       " 'anise_basil',\n",
       " 'anise_extract',\n",
       " 'anise_liqueur',\n",
       " 'anise_oil',\n",
       " 'anise_powder',\n",
       " 'anise_seed',\n",
       " 'anisette',\n",
       " 'anjou_pears',\n",
       " 'annatto',\n",
       " 'annatto_oil',\n",
       " 'annatto_powder',\n",
       " 'annatto_seeds',\n",
       " 'aonori',\n",
       " 'apple_brandy',\n",
       " 'apple_butter',\n",
       " 'apple_cider',\n",
       " 'apple_cider_vinegar',\n",
       " 'apple_jelly',\n",
       " 'apple_juice',\n",
       " 'apple_juice_concentrate',\n",
       " 'apple_pie_filling',\n",
       " 'apple_pie_spice',\n",
       " 'apple_sausage',\n",
       " 'apple_schnapps',\n",
       " 'apple_slice',\n",
       " 'apples',\n",
       " 'applesauce',\n",
       " 'applewood_smoked_bacon',\n",
       " 'apricot_brandy',\n",
       " 'apricot_halves',\n",
       " 'apricot_jam',\n",
       " 'apricot_jelly',\n",
       " 'apricot_nectar',\n",
       " 'apricot_preserves',\n",
       " 'apricots',\n",
       " 'arbol_chile',\n",
       " 'arborio_rice',\n",
       " 'arctic_char',\n",
       " 'argo_corn_starch',\n",
       " 'arhar_dal',\n",
       " 'armagnac',\n",
       " 'arrow_root',\n",
       " 'arrowroot',\n",
       " 'arrowroot_flour',\n",
       " 'arrowroot_powder',\n",
       " 'arrowroot_starch',\n",
       " 'artichok_heart_marin',\n",
       " 'artichoke_bottoms',\n",
       " 'artichoke_hearts',\n",
       " 'artichokes',\n",
       " 'artificial_sweetener',\n",
       " 'artisan_bread',\n",
       " 'arugula',\n",
       " 'asadero',\n",
       " 'asafetida',\n",
       " 'asafetida_',\n",
       " 'asafetida_powder',\n",
       " 'asafoetida',\n",
       " 'asafoetida_powder',\n",
       " 'asakusa_nori',\n",
       " 'ascorbic_acid',\n",
       " 'asiago',\n",
       " 'asian_barbecue_sauce',\n",
       " 'asian_basil',\n",
       " 'asian_chile_paste',\n",
       " 'asian_chili_red_sauc',\n",
       " 'asian_chili_sauce',\n",
       " 'asian_eggplants',\n",
       " 'asian_fish_sauce',\n",
       " 'asian_noodles',\n",
       " 'asian_pear',\n",
       " 'asian_rice_noodles',\n",
       " 'asian_wheat_noodles',\n",
       " 'asparagus',\n",
       " 'asparagus_spears',\n",
       " 'asparagus_tips',\n",
       " 'aspic',\n",
       " 'assorted_fresh_vegetables',\n",
       " 'atar',\n",
       " 'atlantic_cod_fillets',\n",
       " 'atta',\n",
       " 'au_jus_gravy',\n",
       " 'au_jus_gravy_mix',\n",
       " 'au_jus_mix',\n",
       " 'avocado',\n",
       " 'avocado_dressing',\n",
       " 'avocado_leaves',\n",
       " 'avocado_oil',\n",
       " 'awase_miso',\n",
       " 'azuki_bean',\n",
       " 'açai',\n",
       " 'açai_powder',\n",
       " 'baby_artichokes',\n",
       " 'baby_arugula',\n",
       " 'baby_back_ribs',\n",
       " 'baby_beets',\n",
       " 'baby_bok_choy',\n",
       " 'baby_broccoli',\n",
       " 'baby_carrots',\n",
       " 'baby_corn',\n",
       " 'baby_eggplants',\n",
       " 'baby_gem_lettuce',\n",
       " 'baby_goat',\n",
       " 'baby_greens',\n",
       " 'baby_kale',\n",
       " 'baby_leaf_lettuce',\n",
       " 'baby_lima_beans',\n",
       " 'baby_okra',\n",
       " 'baby_portobello_mushrooms',\n",
       " 'baby_potatoes',\n",
       " 'baby_radishes',\n",
       " 'baby_spinach',\n",
       " 'baby_spinach_leaves',\n",
       " 'baby_tatsoi',\n",
       " 'baby_zucchini',\n",
       " 'bacardi',\n",
       " 'back_bacon',\n",
       " 'back_bacon_rashers',\n",
       " 'back_ribs',\n",
       " 'bacon',\n",
       " 'bacon_bits',\n",
       " 'bacon_drippings',\n",
       " 'bacon_fat',\n",
       " 'bacon_grease',\n",
       " 'bacon_pieces',\n",
       " 'bacon_rind',\n",
       " 'bacon_salt',\n",
       " 'bacon_slices',\n",
       " 'bagel_chips',\n",
       " 'bagels',\n",
       " 'baguette',\n",
       " 'baileys_irish_cream_liqueur',\n",
       " 'baked_beans',\n",
       " 'baked_corn_tortilla_chips',\n",
       " 'baked_ham',\n",
       " 'baked_pita_chips',\n",
       " 'baked_pizza_crust',\n",
       " 'baked_tortilla_chips',\n",
       " 'baking_apples',\n",
       " 'baking_chocolate',\n",
       " 'baking_mix',\n",
       " 'baking_potatoes',\n",
       " 'baking_powder',\n",
       " 'baking_soda',\n",
       " 'baking_spray',\n",
       " 'baking_sugar',\n",
       " 'baking_yeast',\n",
       " 'balm',\n",
       " 'balm_leaves',\n",
       " 'balsamic_reduction',\n",
       " 'balsamic_vinaigrette',\n",
       " 'balsamic_vinaigrette_salad_dressing',\n",
       " 'balsamic_vinegar',\n",
       " 'balsamico_bianco',\n",
       " 'bamboo_shoots',\n",
       " 'banana_blossom',\n",
       " 'banana_bread',\n",
       " 'banana_flower',\n",
       " 'banana_leaves',\n",
       " 'banana_liqueur',\n",
       " 'banana_peppers',\n",
       " 'banana_puree',\n",
       " 'banana_squash',\n",
       " 'bananas',\n",
       " 'banger',\n",
       " 'banh_hoi',\n",
       " 'banh_pho_rice_noodles',\n",
       " 'baobab_fruit_powder',\n",
       " 'barbecue_rub',\n",
       " 'barbecue_sauce',\n",
       " 'barbecue_seasoning',\n",
       " 'barbecued_pork',\n",
       " 'barilla',\n",
       " 'barilla_linguine',\n",
       " 'barilla_oven',\n",
       " 'barilla_piccolini_mini',\n",
       " 'barilla_plus_pasta',\n",
       " 'barley',\n",
       " 'barley_flakes',\n",
       " 'barley_flour',\n",
       " 'barley_miso',\n",
       " 'barolo',\n",
       " 'barramundi_fillets',\n",
       " 'bartlett_pear',\n",
       " 'bartlett_pears',\n",
       " 'basa_fillets',\n",
       " 'base',\n",
       " 'based_liquid_seasoning',\n",
       " 'basil',\n",
       " 'basil_dried_leaves',\n",
       " 'basil_leaves',\n",
       " 'basil_mayonnaise',\n",
       " 'basil_pesto_sauce',\n",
       " 'basmati',\n",
       " 'basmati_rice',\n",
       " 'bass_fillets',\n",
       " 'baton',\n",
       " 'batter',\n",
       " 'bawang_goreng',\n",
       " 'bay_leaf',\n",
       " 'bay_leaves',\n",
       " 'bay_scallops',\n",
       " 'bbq_sauce',\n",
       " 'bbq_seasoning',\n",
       " 'bean_curd',\n",
       " 'bean_curd_skins',\n",
       " 'bean_dip',\n",
       " 'bean_paste',\n",
       " 'bean_sauce',\n",
       " 'bean_soup',\n",
       " 'bean_soup_mix',\n",
       " 'bean_thread_vermicelli',\n",
       " 'bean_threads',\n",
       " 'beans',\n",
       " 'beansprouts',\n",
       " 'bear',\n",
       " 'beaten_eggs',\n",
       " 'beau_monde_seasoning',\n",
       " 'beaujolais',\n",
       " 'bechamel',\n",
       " 'bee_pollen',\n",
       " 'beef',\n",
       " 'beef_base',\n",
       " 'beef_boneless_meat_stew',\n",
       " 'beef_bones',\n",
       " 'beef_bouillon',\n",
       " 'beef_bouillon_granules',\n",
       " 'beef_bouillon_powder',\n",
       " 'beef_brisket',\n",
       " 'beef_broth',\n",
       " 'beef_carpaccio',\n",
       " 'beef_cheek',\n",
       " 'beef_consomme',\n",
       " 'beef_deli_roast_slice_thinli',\n",
       " 'beef_demi',\n",
       " 'beef_drippings',\n",
       " 'beef_fillet',\n",
       " 'beef_for_stew',\n",
       " 'beef_gravy',\n",
       " 'beef_heart',\n",
       " 'beef_hot_dogs',\n",
       " 'beef_jerky',\n",
       " 'beef_kidney',\n",
       " 'beef_liver',\n",
       " 'beef_marrow',\n",
       " 'beef_rib_roast',\n",
       " 'beef_rib_short',\n",
       " 'beef_ribs',\n",
       " 'beef_roast',\n",
       " 'beef_round',\n",
       " 'beef_rump',\n",
       " 'beef_rump_steaks',\n",
       " 'beef_sausage',\n",
       " 'beef_shank',\n",
       " 'beef_shin',\n",
       " 'beef_shoulder',\n",
       " 'beef_shoulder_roast',\n",
       " 'beef_sirloin',\n",
       " 'beef_smoked_sausage',\n",
       " 'beef_soup_bones',\n",
       " 'beef_steak',\n",
       " 'beef_stew',\n",
       " 'beef_stew_meat',\n",
       " 'beef_stew_seasoning_mix',\n",
       " 'beef_stock',\n",
       " 'beef_stock_cubes',\n",
       " 'beef_tenderloin',\n",
       " 'beef_tenderloin_steaks',\n",
       " 'beef_tendons',\n",
       " 'beef_tongue',\n",
       " 'beefsteak_tomatoes',\n",
       " 'beer',\n",
       " 'beer_batter',\n",
       " 'beet_greens',\n",
       " 'beets',\n",
       " 'belacan',\n",
       " 'belgian_endive',\n",
       " 'bell_pepper',\n",
       " 'bengal_gram',\n",
       " 'bengali_5_spice',\n",
       " 'beni_shoga',\n",
       " 'benne_seed',\n",
       " 'berries',\n",
       " 'bertolli',\n",
       " 'bertolli_four_chees_rosa_sauc',\n",
       " 'bertolli_garlic_alfredo_sauce',\n",
       " 'bertolli_organic_tradit_sauc',\n",
       " 'bertolli_tomato_',\n",
       " 'bertolli_vineyard_premium_collect_marinara_with_burgundi_wine_sauc',\n",
       " 'bertolli_vodka_sauc_made_with_fresh_cream',\n",
       " 'besan_',\n",
       " 'best_food',\n",
       " 'best_foods',\n",
       " 'better_than_bouillon_chicken_base',\n",
       " 'beurre_manié',\n",
       " 'bhaji',\n",
       " 'bhindi',\n",
       " 'bibb_lettuce',\n",
       " 'bicarbonate_of_soda',\n",
       " 'biga',\n",
       " 'bigoli',\n",
       " 'bihon',\n",
       " 'bing_cherries',\n",
       " 'bird_chile',\n",
       " 'bird_pepper',\n",
       " 'biryani_masala',\n",
       " 'biscotti',\n",
       " 'biscuit_baking_mix',\n",
       " 'biscuit_dough',\n",
       " 'biscuit_mix',\n",
       " 'biscuits',\n",
       " 'bisquick',\n",
       " 'bisquick_baking_mix',\n",
       " 'bisquick_original_all',\n",
       " 'bitter_gourd',\n",
       " 'bitter_melon',\n",
       " 'bitters',\n",
       " 'bittersweet_baking_chocolate',\n",
       " 'bittersweet_chocolate',\n",
       " 'bittersweet_chocolate_chips',\n",
       " 'blacan',\n",
       " 'black',\n",
       " 'black_bass',\n",
       " 'black_bean_and_corn_salsa',\n",
       " 'black_bean_garlic_sauce',\n",
       " 'black_bean_sauce',\n",
       " 'black_bean_sauce_with_garlic',\n",
       " 'black_bean_stir_fry_sauce',\n",
       " 'black_beans',\n",
       " 'black_cardamom_pods',\n",
       " 'black_cod',\n",
       " 'black_cod_fillets',\n",
       " 'black_cumin_seeds',\n",
       " 'black_forest_ham',\n",
       " 'black_fungus',\n",
       " 'black_garlic',\n",
       " 'black_gram',\n",
       " 'black_lentil',\n",
       " 'black_mission_figs',\n",
       " 'black_moss',\n",
       " 'black_mushrooms',\n",
       " 'black_mustard_seeds',\n",
       " 'black_olives',\n",
       " 'black_onion_seeds',\n",
       " 'black_pepper',\n",
       " 'black_peppercorns',\n",
       " 'black_pudding',\n",
       " 'black_rice',\n",
       " 'black_rice_vinegar',\n",
       " 'black_salt',\n",
       " 'black_sea_bass',\n",
       " 'black_sesame_seeds',\n",
       " 'black_tea',\n",
       " 'black_tea_leaves',\n",
       " 'black_treacle',\n",
       " 'black_truffle_oil',\n",
       " 'black_truffles',\n",
       " 'black_trumpet_mushrooms',\n",
       " 'black_turtle_beans',\n",
       " 'black_vinegar',\n",
       " 'black_walnut',\n",
       " 'blackberries',\n",
       " 'blackberry_brandy',\n",
       " 'blackberry_jam',\n",
       " 'blackening_seasoning',\n",
       " 'blackpepper',\n",
       " 'blackstrap_molasses',\n",
       " 'blade_steak',\n",
       " 'blanched_almond_flour',\n",
       " 'blanched_almonds',\n",
       " 'blanched_hazelnuts',\n",
       " 'blanco_tequila',\n",
       " 'blood',\n",
       " 'blood_orange',\n",
       " 'blood_orange_juice',\n",
       " 'blood_sausage',\n",
       " 'bloody_mary_mix',\n",
       " 'blue_cheese',\n",
       " 'blue_cheese_dressing',\n",
       " 'blue_corn_tortilla_chips',\n",
       " 'blue_crabs',\n",
       " 'blue_curaçao',\n",
       " 'blueberries',\n",
       " 'blueberry_pie_filling',\n",
       " 'boar',\n",
       " 'bob_evans_italian_sausage',\n",
       " 'bocconcini',\n",
       " 'boiled_egg',\n",
       " 'boiled_eggs',\n",
       " 'boiled_ham',\n",
       " 'boiling_onions',\n",
       " 'boiling_potatoes',\n",
       " 'boiling_water',\n",
       " 'bok_choy',\n",
       " 'bolillo',\n",
       " 'bologna',\n",
       " 'bone',\n",
       " 'bone_broth',\n",
       " 'bone_in',\n",
       " 'bone_in_chicken_thighs',\n",
       " 'bone_in_skin_on_chicken_thigh',\n",
       " 'bone_in_skinless_chicken_thigh',\n",
       " 'bone_italian_dressing',\n",
       " 'bone_light_asian_sesame_ginger_vinaigrette_dressing',\n",
       " 'bone_light_country_italian_dressing',\n",
       " 'bone_light_italian_dressing',\n",
       " 'bone_marrow',\n",
       " 'bone_steak',\n",
       " 'boned_duck_breast_halves',\n",
       " 'boned_lamb_shoulder',\n",
       " 'boned_skinned_duck_breast_halves',\n",
       " 'boneless',\n",
       " 'boneless_beef_chuck_roast',\n",
       " 'boneless_beef_rib_eye_steaks',\n",
       " 'boneless_beef_roast',\n",
       " 'boneless_beef_short_ribs',\n",
       " 'boneless_beef_sirloin_steak',\n",
       " 'boneless_center_cut_pork_chops',\n",
       " 'boneless_chicken',\n",
       " 'boneless_chicken_breast',\n",
       " 'boneless_chicken_breast_halves',\n",
       " 'boneless_chicken_cutlet',\n",
       " 'boneless_chicken_skinless_thigh',\n",
       " 'boneless_chicken_thigh_fillets',\n",
       " 'boneless_chicken_thighs',\n",
       " 'boneless_chop_pork',\n",
       " 'boneless_chops',\n",
       " 'boneless_chuck_roast',\n",
       " 'boneless_country_pork_ribs',\n",
       " 'boneless_duck_breast',\n",
       " 'boneless_ham',\n",
       " 'boneless_lamb',\n",
       " 'boneless_pork_loin',\n",
       " 'boneless_pork_shoulder',\n",
       " 'boneless_pork_shoulder_roast',\n",
       " 'boneless_rib_eye_steaks',\n",
       " 'boneless_salmon_fillets',\n",
       " 'boneless_sirloin',\n",
       " 'boneless_sirloin_steak',\n",
       " 'boneless_skin_on_chicken_thighs',\n",
       " 'boneless_skinless_chicken',\n",
       " 'boneless_skinless_chicken_breast_halves',\n",
       " 'boneless_skinless_chicken_breasts',\n",
       " 'boneless_skinless_chicken_tenderloins',\n",
       " 'boneless_skinless_chicken_thigh_fillets',\n",
       " 'boneless_skinless_turkey_breasts',\n",
       " 'boneless_steak',\n",
       " 'boneless_turkey_breast',\n",
       " 'boneless_veal_shoulder',\n",
       " 'bonito',\n",
       " 'bonito_flakes',\n",
       " 'borage',\n",
       " 'bordelaise_sauce',\n",
       " 'borlotti_beans',\n",
       " 'bosc_pears',\n",
       " 'boston_butt',\n",
       " 'boston_lettuce',\n",
       " 'bottle_gourd',\n",
       " 'bottled_chili_sauce',\n",
       " 'bottled_clam_juice',\n",
       " 'bottled_italian_dressing',\n",
       " 'bottled_lime_juice',\n",
       " 'bottom_round',\n",
       " 'bottom_round_roast',\n",
       " 'boudin',\n",
       " 'bought_pound_cake',\n",
       " 'bouillon',\n",
       " 'bouillon_cube',\n",
       " 'bouillon_granules',\n",
       " 'bouillon_powder',\n",
       " 'bouquet',\n",
       " 'bouquet_garni',\n",
       " 'bourbon_liqueur',\n",
       " 'bourbon_whiskey',\n",
       " 'boursin',\n",
       " 'bow',\n",
       " 'bows',\n",
       " 'boysenberries',\n",
       " 'braeburn_apple',\n",
       " 'bragg_liquid_aminos',\n",
       " 'braggs_liquid_aminos',\n",
       " 'braising_beef',\n",
       " 'braising_steak',\n",
       " 'bran_flakes',\n",
       " 'branca_menta',\n",
       " 'brandy',\n",
       " 'branston_pickle',\n",
       " 'branzino',\n",
       " 'branzino_fillets',\n",
       " 'brats',\n",
       " 'brazil_nuts',\n",
       " 'bread',\n",
       " 'bread_and_butter_pickle_slices',\n",
       " 'bread_and_butter_pickles',\n",
       " 'bread_ciabatta',\n",
       " 'bread_crumb_fresh',\n",
       " 'bread_crumbs',\n",
       " 'bread_dough',\n",
       " 'bread_flour',\n",
       " 'bread_machine_yeast',\n",
       " 'bread_mix',\n",
       " 'bread_rolls',\n",
       " 'bread_slices',\n",
       " 'breadcrumb_mix',\n",
       " 'breadfruit',\n",
       " 'breadstick',\n",
       " 'breakfast_sausage_links',\n",
       " 'breakfast_sausages',\n",
       " 'breakstone',\n",
       " 'breast',\n",
       " 'breast_of_lamb',\n",
       " 'breasts_halves',\n",
       " 'bresaola',\n",
       " 'brewed_coffee',\n",
       " 'brewed_espresso',\n",
       " 'brewed_tea',\n",
       " 'breyers',\n",
       " 'brie_cheese',\n",
       " 'brien',\n",
       " 'brine',\n",
       " 'brine_cured_green_olives',\n",
       " 'brioche',\n",
       " 'brioche_bread',\n",
       " 'brisket',\n",
       " 'broad_beans',\n",
       " 'broccoli',\n",
       " 'broccoli_florets',\n",
       " 'broccoli_rabe',\n",
       " 'broccoli_romanesco',\n",
       " 'broccoli_slaw',\n",
       " 'broccoli_stems',\n",
       " 'broccolini',\n",
       " 'broiler',\n",
       " 'broiler_chicken',\n",
       " 'broth',\n",
       " 'brown_ale',\n",
       " 'brown_basmati_rice',\n",
       " 'brown_beech_mushrooms',\n",
       " 'brown_cardamom',\n",
       " 'brown_chicken_stock',\n",
       " 'brown_gravy',\n",
       " 'brown_gravy_mix',\n",
       " 'brown_hash_potato',\n",
       " 'brown_lentils',\n",
       " 'brown_mushroom',\n",
       " 'brown_mustard',\n",
       " 'brown_mustard_seeds',\n",
       " 'brown_rice',\n",
       " 'brown_rice_flour',\n",
       " 'brown_rice_noodles',\n",
       " 'brown_rice_penne',\n",
       " 'brown_rice_spaghetti',\n",
       " 'brown_rice_syrup',\n",
       " 'brown_rice_vinegar',\n",
       " 'brown_sauce',\n",
       " 'brown_shrimp',\n",
       " 'brown_sugar',\n",
       " 'brownie_layer',\n",
       " 'brownies',\n",
       " 'browning',\n",
       " 'brussels_sprouts',\n",
       " 'bucatini',\n",
       " 'buckwheat',\n",
       " 'buckwheat_flour',\n",
       " 'buckwheat_groats',\n",
       " 'buckwheat_noodles',\n",
       " 'buckwheat_soba_noodles',\n",
       " 'buffalo',\n",
       " 'buffalo_mozarella',\n",
       " 'buffalo_mozzarella',\n",
       " 'buffalo_sauce',\n",
       " 'bulb',\n",
       " 'bulb_fennel',\n",
       " 'bulgur',\n",
       " 'bulgur_wheat',\n",
       " 'bulk_italian_sausag',\n",
       " 'buns',\n",
       " 'burdock',\n",
       " 'burger_buns',\n",
       " 'burgers',\n",
       " 'burgundy',\n",
       " 'burgundy_wine',\n",
       " 'burrata',\n",
       " 'burrito_seasoning_mix',\n",
       " 'butter',\n",
       " 'butter_beans',\n",
       " 'butter_cake',\n",
       " 'butter_cooking_spray',\n",
       " 'butter_crackers',\n",
       " 'butter_extract',\n",
       " 'butter_flavor_shortening',\n",
       " 'butter_flavor_vegetable_shortening',\n",
       " 'butter_lettuce',\n",
       " 'butter_oil',\n",
       " 'butter_pecan_cake_mix',\n",
       " 'butter_pecan_ice_cream',\n",
       " 'butter_salt',\n",
       " 'buttercream_frosting',\n",
       " 'buttercup_squash',\n",
       " 'butterflied_leg_of_lamb',\n",
       " 'buttermilk',\n",
       " 'buttermilk_biscuits',\n",
       " 'buttermilk_cornbread',\n",
       " 'buttermilk_ranch_dressing',\n",
       " 'buttermilk_self',\n",
       " 'butternut_squash',\n",
       " 'butterscotch_chips',\n",
       " 'butterscotch_filling',\n",
       " 'butterscotch_sauce',\n",
       " 'button_mushrooms',\n",
       " 'bâtarde',\n",
       " 'bénédictine',\n",
       " 'cabbage',\n",
       " 'cabbage_head',\n",
       " 'cabbage_leaves',\n",
       " 'cabbage_lettuce',\n",
       " 'cabernet',\n",
       " 'cabernet_sauvignon',\n",
       " 'cabrales',\n",
       " 'cacao_nibs',\n",
       " 'cacao_powder',\n",
       " 'cachaca',\n",
       " 'caciocavallo',\n",
       " 'cactus_pad',\n",
       " 'cactus_paddles',\n",
       " 'caesar_salad_dressing',\n",
       " 'cajeta',\n",
       " 'cajun',\n",
       " 'cajun_remoulade',\n",
       " 'cajun_seasoning',\n",
       " 'cajun_seasoning_mix',\n",
       " 'cajun_spice_mix',\n",
       " 'cajun_style_stewed_tomatoes',\n",
       " 'cake',\n",
       " 'cake_batter',\n",
       " 'cake_flour',\n",
       " 'cake_mix',\n",
       " 'cake_mix_or_white_yellow',\n",
       " 'cake_pound_prepar',\n",
       " 'cake_yeast',\n",
       " 'calabaza',\n",
       " 'calabrese_sausage',\n",
       " 'calamansi',\n",
       " 'calamansi_juice',\n",
       " 'calamari',\n",
       " 'calamari_steak',\n",
       " 'calamata_olives',\n",
       " 'calf_liver',\n",
       " 'california_avocado',\n",
       " 'california_bay_leaves',\n",
       " 'california_chile',\n",
       " 'calimyrna_figs',\n",
       " 'callaloo',\n",
       " 'calorie_sucralose_sweetener',\n",
       " 'calorie_sweetener',\n",
       " 'calvados',\n",
       " 'camembert',\n",
       " 'campanelle',\n",
       " 'campari',\n",
       " 'campbell',\n",
       " 'canadian_bacon',\n",
       " 'candied_bacon',\n",
       " 'candied_cherries',\n",
       " 'candied_chestnuts',\n",
       " 'candied_citron_peel',\n",
       " 'candied_fruit',\n",
       " 'candied_ginger',\n",
       " 'candied_jalapeno',\n",
       " 'candied_lemon_peel',\n",
       " 'candied_orange_peel',\n",
       " 'candied_peel',\n",
       " 'candied_pineapple',\n",
       " 'candlenuts',\n",
       " 'candy',\n",
       " 'candy_bar',\n",
       " 'candy_canes',\n",
       " 'candy_sprinkles',\n",
       " 'cane_sugar',\n",
       " 'cane_syrup',\n",
       " 'cane_vinegar',\n",
       " 'canela',\n",
       " 'canned_beans',\n",
       " 'canned_beef_broth',\n",
       " 'canned_black_beans',\n",
       " 'canned_chicken',\n",
       " 'canned_chicken_breast',\n",
       " 'canned_chicken_broth',\n",
       " 'canned_chipotles',\n",
       " 'canned_chopped_tomatoes',\n",
       " 'canned_coconut_milk',\n",
       " 'canned_corn',\n",
       " 'canned_jalapeno_peppers',\n",
       " 'canned_low_sodium_chicken_broth',\n",
       " 'canned_peas_and_carrots',\n",
       " 'canned_salmon',\n",
       " 'canned_snails',\n",
       " 'canned_tomatoes',\n",
       " 'canned_tuna',\n",
       " 'cannellini_beans',\n",
       " 'cannelloni',\n",
       " 'canning_salt',\n",
       " 'cannoli_shells',\n",
       " 'canola',\n",
       " 'canola_mayonnaise',\n",
       " 'canola_oil',\n",
       " 'canola_oil_cooking_spray',\n",
       " 'cantal',\n",
       " 'cantaloupe',\n",
       " 'canton_noodles',\n",
       " 'capellini',\n",
       " 'caper_berries',\n",
       " 'capers',\n",
       " 'capicola',\n",
       " 'capocollo',\n",
       " 'capon',\n",
       " 'caponata',\n",
       " 'cappuccino',\n",
       " 'capsicum',\n",
       " 'cara_cara_orange',\n",
       " 'carambola',\n",
       " 'caramel_ice_cream',\n",
       " 'caramel_ice_cream_topping',\n",
       " 'caramel_sauce',\n",
       " 'caramel_syrup',\n",
       " 'caramel_topping',\n",
       " 'caramels',\n",
       " 'caraway',\n",
       " 'caraway_seeds',\n",
       " 'carbonated_beverages',\n",
       " 'carbonated_water',\n",
       " 'cardamom',\n",
       " 'cardamom_pods',\n",
       " 'cardamom_seeds',\n",
       " 'cardamon',\n",
       " 'caribbean_jerk_seasoning',\n",
       " 'carnaroli_rice',\n",
       " 'carnation',\n",
       " 'carnation_condensed_milk',\n",
       " 'carne_asada',\n",
       " 'carne_seca',\n",
       " 'carnitas',\n",
       " 'carpaccio',\n",
       " 'carrot_greens',\n",
       " ...]"
      ]
     },
     "execution_count": 23,
     "metadata": {},
     "output_type": "execute_result"
    }
   ],
   "source": [
    "cvec.get_feature_names()"
   ]
  },
  {
   "cell_type": "code",
   "execution_count": 24,
   "id": "competitive-chicago",
   "metadata": {},
   "outputs": [],
   "source": [
    "X_train_df = pd.DataFrame(X_train.todense(),\n",
    "                         columns=cvec.get_feature_names())"
   ]
  },
  {
   "cell_type": "code",
   "execution_count": 25,
   "id": "outside-platinum",
   "metadata": {},
   "outputs": [
    {
     "data": {
      "text/plain": [
       "olive_oil              5994\n",
       "onions                 5983\n",
       "garlic                 5512\n",
       "sugar                  4863\n",
       "garlic_cloves          4728\n",
       "butter                 3645\n",
       "ground_black_pepper    3609\n",
       "purpose_flour          3489\n",
       "all                    3489\n",
       "vegetable_oil          3319\n",
       "dtype: int64"
      ]
     },
     "execution_count": 25,
     "metadata": {},
     "output_type": "execute_result"
    }
   ],
   "source": [
    "X_train_df.sum().sort_values(ascending=False).head(10)"
   ]
  },
  {
   "cell_type": "code",
   "execution_count": 26,
   "id": "included-point",
   "metadata": {},
   "outputs": [
    {
     "data": {
      "image/png": "[encoded data removed]",
      "text/plain": [
       "<Figure size 432x288 with 1 Axes>"
      ]
     },
     "metadata": {
      "needs_background": "light"
     },
     "output_type": "display_data"
    }
   ],
   "source": [
    "# plot top occuring words\n",
    "X_train_df.sum().sort_values(ascending=False).head(10).plot(kind='barh');"
   ]
  },
  {
   "cell_type": "code",
   "execution_count": 27,
   "id": "frequent-recorder",
   "metadata": {},
   "outputs": [
    {
     "data": {
      "text/plain": [
       "italian         0.203540\n",
       "mexican         0.163113\n",
       "southern_us     0.101066\n",
       "indian          0.074316\n",
       "french          0.068081\n",
       "chinese         0.066070\n",
       "thai            0.040326\n",
       "cajun_creole    0.038315\n",
       "japanese        0.034191\n",
       "greek           0.029063\n",
       "spanish         0.025342\n",
       "vietnamese      0.021521\n",
       "british         0.020817\n",
       "moroccan        0.020515\n",
       "korean          0.020012\n",
       "filipino        0.017900\n",
       "irish           0.016995\n",
       "russian         0.013274\n",
       "jamaican        0.012772\n",
       "brazilian       0.012772\n",
       "Name: cuisine, dtype: float64"
      ]
     },
     "execution_count": 27,
     "metadata": {},
     "output_type": "execute_result"
    }
   ],
   "source": [
    "y_test.value_counts(normalize=True)"
   ]
  },
  {
   "cell_type": "code",
   "execution_count": 28,
   "id": "binding-demand",
   "metadata": {},
   "outputs": [],
   "source": [
    "pipe = Pipeline([\n",
    "    ('cvec', CountVectorizer(lowercase=False)),\n",
    "    ('nb', MultinomialNB())\n",
    "])"
   ]
  },
  {
   "cell_type": "code",
   "execution_count": 29,
   "id": "generous-abuse",
   "metadata": {},
   "outputs": [
    {
     "data": {
      "text/plain": [
       "0.7316338209317024"
      ]
     },
     "execution_count": 29,
     "metadata": {},
     "output_type": "execute_result"
    }
   ],
   "source": [
    "cross_val_score(pipe, X, y).mean()"
   ]
  },
  {
   "cell_type": "code",
   "execution_count": 30,
   "id": "suspended-meeting",
   "metadata": {},
   "outputs": [],
   "source": [
    "X = ing_train['list_str']\n",
    "y = ing_train['cuisine']\n",
    "\n",
    "# Split the data into the training and testing sets.\n",
    "X_train, X_test, y_train, y_test = train_test_split(X,y)"
   ]
  },
  {
   "cell_type": "code",
   "execution_count": 31,
   "id": "athletic-terminal",
   "metadata": {},
   "outputs": [
    {
     "data": {
      "text/plain": [
       "Pipeline(steps=[('cvec', CountVectorizer(lowercase=False)),\n",
       "                ('nb', MultinomialNB())])"
      ]
     },
     "execution_count": 31,
     "metadata": {},
     "output_type": "execute_result"
    }
   ],
   "source": [
    "pipe.fit(X_train,y_train)"
   ]
  },
  {
   "cell_type": "code",
   "execution_count": 32,
   "id": "distinguished-sense",
   "metadata": {},
   "outputs": [
    {
     "data": {
      "text/plain": [
       "0.7710023466309085"
      ]
     },
     "execution_count": 32,
     "metadata": {},
     "output_type": "execute_result"
    }
   ],
   "source": [
    "pipe.score(X_train,y_train)"
   ]
  },
  {
   "cell_type": "code",
   "execution_count": 33,
   "id": "ranging-niger",
   "metadata": {},
   "outputs": [
    {
     "data": {
      "text/plain": [
       "0.7322003218020917"
      ]
     },
     "execution_count": 33,
     "metadata": {},
     "output_type": "execute_result"
    }
   ],
   "source": [
    "pipe.score(X_test,y_test)"
   ]
  },
  {
   "cell_type": "code",
   "execution_count": 34,
   "id": "dress-samuel",
   "metadata": {},
   "outputs": [],
   "source": [
    "pipe2 = Pipeline([\n",
    "    ('cvec', CountVectorizer(lowercase=False)),\n",
    "    ('knn', KNeighborsClassifier())\n",
    "])"
   ]
  },
  {
   "cell_type": "code",
   "execution_count": 35,
   "id": "sealed-track",
   "metadata": {},
   "outputs": [
    {
     "data": {
      "text/plain": [
       "Pipeline(steps=[('cvec', CountVectorizer(lowercase=False)),\n",
       "                ('knn', KNeighborsClassifier())])"
      ]
     },
     "execution_count": 35,
     "metadata": {},
     "output_type": "execute_result"
    }
   ],
   "source": [
    "pipe2.fit(X_train, y_train)"
   ]
  },
  {
   "cell_type": "code",
   "execution_count": 36,
   "id": "japanese-envelope",
   "metadata": {},
   "outputs": [
    {
     "data": {
      "text/plain": [
       "0.6626550452564532"
      ]
     },
     "execution_count": 36,
     "metadata": {},
     "output_type": "execute_result"
    }
   ],
   "source": [
    "pipe2.score(X_train,y_train)"
   ]
  },
  {
   "cell_type": "code",
   "execution_count": 37,
   "id": "certified-interstate",
   "metadata": {},
   "outputs": [
    {
     "data": {
      "text/plain": [
       "0.497787610619469"
      ]
     },
     "execution_count": 37,
     "metadata": {},
     "output_type": "execute_result"
    }
   ],
   "source": [
    "pipe2.score(X_test, y_test)"
   ]
  },
  {
   "cell_type": "code",
   "execution_count": 38,
   "id": "alone-cliff",
   "metadata": {},
   "outputs": [
    {
     "data": {
      "text/plain": [
       "0.6214361140443506"
      ]
     },
     "execution_count": 38,
     "metadata": {},
     "output_type": "execute_result"
    }
   ],
   "source": [
    "pipe2.score(X,y)"
   ]
  },
  {
   "cell_type": "code",
   "execution_count": 39,
   "id": "dependent-while",
   "metadata": {},
   "outputs": [],
   "source": [
    "preds = pipe.predict(X_test)"
   ]
  },
  {
   "cell_type": "code",
   "execution_count": 40,
   "id": "suffering-trance",
   "metadata": {},
   "outputs": [
    {
     "data": {
      "text/plain": [
       "<AxesSubplot:>"
      ]
     },
     "execution_count": 40,
     "metadata": {},
     "output_type": "execute_result"
    },
    {
     "data": {
      "image/png": "[encoded data removed]",
      "text/plain": [
       "<Figure size 432x288 with 2 Axes>"
      ]
     },
     "metadata": {
      "needs_background": "light"
     },
     "output_type": "display_data"
    }
   ],
   "source": [
    "# Get Predictions\n",
    "preds = pipe.predict(X_test)\n",
    "#Save confusion matrix values\n",
    "cm = confusion_matrix(y_test, preds)\n",
    "lad = cm.ravel()\n",
    "sns.heatmap(data=cm, annot=True, cmap='cool') #Creating True Negative, False Positive, False Negative, True Positive vairables"
   ]
  },
  {
   "cell_type": "code",
   "execution_count": 41,
   "id": "expressed-buffalo",
   "metadata": {},
   "outputs": [
    {
     "data": {
      "text/plain": [
       "<sklearn.metrics._plot.confusion_matrix.ConfusionMatrixDisplay at 0x7fe7c6e5d220>"
      ]
     },
     "execution_count": 41,
     "metadata": {},
     "output_type": "execute_result"
    },
    {
     "data": {
      "image/png": "[encoded data removed]",
      "text/plain": [
       "<Figure size 720x720 with 2 Axes>"
      ]
     },
     "metadata": {
      "needs_background": "light"
     },
     "output_type": "display_data"
    }
   ],
   "source": [
    "#Much better\n",
    "cm = confusion_matrix(y_test, preds)\n",
    "labels = ['italian', 'mexican', 'southern_us', 'indian', 'chinese', 'french', 'cajun_creole', 'thai', 'japanese',\n",
    "'greek','spanish','korean','vietnamese','moroccan','british','filipino','irish','jamaican','russian','brazilian']\n",
    "cmp = ConfusionMatrixDisplay(cm, display_labels=np.arange(20))\n",
    "fig, ax = plt.subplots(figsize=(10,10))\n",
    "cmp.plot(ax=ax)"
   ]
  },
  {
   "cell_type": "code",
   "execution_count": 42,
   "id": "opposed-metadata",
   "metadata": {},
   "outputs": [
    {
     "data": {
      "image/png": "[encoded data removed]",
      "text/plain": [
       "<Figure size 720x720 with 2 Axes>"
      ]
     },
     "metadata": {
      "needs_background": "light"
     },
     "output_type": "display_data"
    }
   ],
   "source": [
    "cm = confusion_matrix(y_test, preds)\n",
    "labels = ['italian', 'mexican', 'southern_us', 'indian', 'chinese', 'french', 'cajun_creole', 'thai', 'japanese',\n",
    "'greek','spanish','korean','vietnamese','moroccan','british','filipino','irish','jamaican','russian','brazilian']\n",
    "cm = confusion_matrix(y_test, preds, labels)\n",
    "cmp = ConfusionMatrixDisplay(cm, display_labels=labels)\n",
    "fig, ax = plt.subplots(figsize=(10,10))\n",
    "ax.set_xticklabels([''] + labels)\n",
    "ax.set_yticklabels([''] + labels)\n",
    "cmp.plot(ax=ax);\n",
    "plt.xticks(rotation=45)\n",
    "plt.show();"
   ]
  },
  {
   "cell_type": "markdown",
   "id": "earlier-hunger",
   "metadata": {},
   "source": [
    "# And now we need to test and train and predict on the test dataset"
   ]
  },
  {
   "cell_type": "code",
   "execution_count": 43,
   "id": "correct-poetry",
   "metadata": {},
   "outputs": [],
   "source": [
    "model_X = ing_train['list_str']\n",
    "model_y = ing_train['list_str']\n",
    "submission_X = ing_test['list_str']\n",
    "#submission_y = ing_train['cuisine']\n",
    "\n",
    "# Split the data into the training and testing sets.\n",
    "#X_train, X_test, y_train, y_test = train_test_split(X,y)"
   ]
  },
  {
   "cell_type": "code",
   "execution_count": 44,
   "id": "ceramic-boring",
   "metadata": {},
   "outputs": [
    {
     "data": {
      "text/plain": [
       "0       baking_powder eggs all-purpose_flour raisins m...\n",
       "1       sugar egg_yolks corn_starch cream_of_tartar ba...\n",
       "2       sausage_links fennel_bulb fronds olive_oil cub...\n",
       "3       meat_cuts file_powder smoked_sausage okra shri...\n",
       "4       ground_black_pepper salt sausage_casings leeks...\n",
       "                              ...                        \n",
       "9939    large_egg_yolks fresh_lemon_juice sugar bourbo...\n",
       "9940     hot_sauce butter sweet_potatoes adobo_sauce salt\n",
       "9941    black_pepper salt parmigiano_reggiano_cheese r...\n",
       "9942    cheddar_cheese cayenne paprika plum_tomatoes g...\n",
       "9943    cold_water olive_oil lime_wedges garlic_cloves...\n",
       "Name: list_str, Length: 9944, dtype: object"
      ]
     },
     "execution_count": 44,
     "metadata": {},
     "output_type": "execute_result"
    }
   ],
   "source": [
    "submission_X"
   ]
  },
  {
   "cell_type": "code",
   "execution_count": 45,
   "id": "maritime-queensland",
   "metadata": {},
   "outputs": [],
   "source": [
    "submission_pipe = Pipeline([\n",
    "    ('cvec', CountVectorizer(lowercase=False)),\n",
    "    ('nb', MultinomialNB())\n",
    "])"
   ]
  },
  {
   "cell_type": "code",
   "execution_count": 46,
   "id": "graphic-boulder",
   "metadata": {},
   "outputs": [
    {
     "data": {
      "text/plain": [
       "Pipeline(steps=[('cvec', CountVectorizer(lowercase=False)),\n",
       "                ('nb', MultinomialNB())])"
      ]
     },
     "execution_count": 46,
     "metadata": {},
     "output_type": "execute_result"
    }
   ],
   "source": [
    "submission_pipe.fit(model_X, model_y)"
   ]
  },
  {
   "cell_type": "code",
   "execution_count": null,
   "id": "convenient-faith",
   "metadata": {},
   "outputs": [],
   "source": [
    "sub_preds = pipe.predict(submission_X)"
   ]
  },
  {
   "cell_type": "code",
   "execution_count": null,
   "id": "north-depth",
   "metadata": {},
   "outputs": [],
   "source": [
    "sub_preds"
   ]
  },
  {
   "cell_type": "code",
   "execution_count": null,
   "id": "silver-machine",
   "metadata": {},
   "outputs": [],
   "source": [
    "ing_test['preds_cuisine'] = sub_preds"
   ]
  },
  {
   "cell_type": "code",
   "execution_count": null,
   "id": "efficient-chaos",
   "metadata": {},
   "outputs": [],
   "source": [
    "ing_test.head()"
   ]
  },
  {
   "cell_type": "code",
   "execution_count": null,
   "id": "overall-hammer",
   "metadata": {},
   "outputs": [],
   "source": []
  },
  {
   "cell_type": "code",
   "execution_count": null,
   "id": "greek-investor",
   "metadata": {},
   "outputs": [],
   "source": []
  },
  {
   "cell_type": "markdown",
   "id": "accessible-tribe",
   "metadata": {},
   "source": [
    "# Our Explosive Next Attempt"
   ]
  },
  {
   "cell_type": "code",
   "execution_count": null,
   "id": "pharmaceutical-partnership",
   "metadata": {},
   "outputs": [],
   "source": [
    "exp_ing_train = ing_train.explode('ingredients')"
   ]
  },
  {
   "cell_type": "code",
   "execution_count": null,
   "id": "emotional-avenue",
   "metadata": {},
   "outputs": [],
   "source": [
    "exp_ing_train.head()"
   ]
  },
  {
   "cell_type": "code",
   "execution_count": null,
   "id": "joint-stevens",
   "metadata": {},
   "outputs": [],
   "source": [
    "# plot top occuring words\n",
    "#exp_ing_train.sum().sort_values(ascending=False).head(10).plot(kind='barh');"
   ]
  },
  {
   "cell_type": "code",
   "execution_count": null,
   "id": "acquired-deadline",
   "metadata": {},
   "outputs": [],
   "source": [
    "#X_train_df.sum().sort_values(ascending=False).head(10)"
   ]
  },
  {
   "cell_type": "code",
   "execution_count": null,
   "id": "filled-corpus",
   "metadata": {},
   "outputs": [],
   "source": []
  }
 ],
 "metadata": {
  "kernelspec": {
   "display_name": "Python 3",
   "language": "python",
   "name": "python3"
  },
  "language_info": {
   "codemirror_mode": {
    "name": "ipython",
    "version": 3
   },
   "file_extension": ".py",
   "mimetype": "text/x-python",
   "name": "python",
   "nbconvert_exporter": "python",
   "pygments_lexer": "ipython3",
   "version": "3.8.8"
  }
 },
 "nbformat": 4,
 "nbformat_minor": 5
}
